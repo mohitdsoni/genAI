{
 "cells": [
  {
   "cell_type": "code",
   "execution_count": 1,
   "metadata": {},
   "outputs": [],
   "source": [
    "#Import required packages\n",
    "#If you have your endpoing then use AzureOpenAI\n",
    "#else use\n",
    "import openai\n",
    "from langchain.llms import AzureOpenAI\n",
    "#This will help us create embeddings\n",
    "from langchain.embeddings.openai import OpenAIEmbeddings\n",
    "#Using ChromaDB as a vector store for the embeddigns\n",
    "from langchain.vectorstores import Chroma\n",
    "from langchain.text_splitter import RecursiveCharacterTextSplitter\n",
    "from langchain.chains import RetrievalQA\n",
    "from langchain.document_loaders import DirectoryLoader\n",
    "import os"
   ]
  },
  {
   "cell_type": "code",
   "execution_count": 2,
   "metadata": {},
   "outputs": [],
   "source": [
    "os.environ[\"OPENAI_API_TYPE\"] = \"azure\"\n",
    "os.environ[\"OPENAI_API_VERSION\"] = \"2022-12-01\"\n",
    "#Set your API endpoint (API BASE) here if you are using Azure OpenAI\n",
    "#If you are using openai common endpoing then you do not need to set this.\n",
    "os.environ[\"OPENAI_API_BASE\"] = \"OPENAI_API_BASE\"\n",
    "#Set your OPENAI API KEY here\n",
    "os.environ[\"OPENAI_API_KEY\"] = \"OPENAI_API_KEY\""
   ]
  },
  {
   "cell_type": "code",
   "execution_count": 3,
   "metadata": {},
   "outputs": [],
   "source": [
    "#Load all the .txt files from docs directory\n",
    "loader = DirectoryLoader('./docs/',glob = \"**/*.txt\")\n",
    "docs = loader.load()\n",
    "#Split text into tokens\n",
    "text_splitter = RecursiveCharacterTextSplitter(chunk_size=1000, chunk_overlap=0)\n",
    "texts = text_splitter.split_documents(docs)"
   ]
  },
  {
   "cell_type": "code",
   "execution_count": 5,
   "metadata": {},
   "outputs": [],
   "source": [
    "#Turn the text into embeddings\n",
    "embeddings = OpenAIEmbeddings(deployment=\"NAME_OF_YOUR_MODEL_DEPLOYMENT\", chunk_size=1) #This model should be able to generate embeddings. For example, text-embedding-ada-002\n",
    "#Store the embeddings into chromadb directory\n",
    "docsearch = Chroma.from_documents(documents=texts, embedding=embeddings, persist_directory=\"./chromadb\")"
   ]
  },
  {
   "cell_type": "code",
   "execution_count": 10,
   "metadata": {},
   "outputs": [
    {
     "data": {
      "text/plain": [
       "' Greenridge'"
      ]
     },
     "execution_count": 10,
     "metadata": {},
     "output_type": "execute_result"
    }
   ],
   "source": [
    "#Use AzureOpenAI, if you're using a endpoint from Azure Open AI\n",
    "llm = AzureOpenAI(deployment_name=\"NAME_OF_YOUR_MODEL_DEPLOYMENT\") #This can be any QnA model. For example, davinci.\n",
    "#Use OpenAI if you're using a Azure OpenAI endpoint \n",
    "#llm = ChatOpenAI(temperature = 0.7, model_name='MODEL_NAME')\n",
    "qa = RetrievalQA.from_chain_type(llm=llm, \n",
    "                                 chain_type=\"stuff\",\n",
    "                                 retriever=docsearch.as_retriever(),\n",
    "                                 return_source_documents=False\n",
    "                                 )\n",
    "query = \"Where was John born?\"\n",
    "qa.run(query)\n"
   ]
  },
  {
   "cell_type": "code",
   "execution_count": null,
   "metadata": {},
   "outputs": [],
   "source": []
  },
  {
   "cell_type": "code",
   "execution_count": null,
   "metadata": {},
   "outputs": [],
   "source": []
  }
 ],
 "metadata": {
  "kernelspec": {
   "display_name": "Python 3",
   "language": "python",
   "name": "python3"
  },
  "language_info": {
   "codemirror_mode": {
    "name": "ipython",
    "version": 3
   },
   "file_extension": ".py",
   "mimetype": "text/x-python",
   "name": "python",
   "nbconvert_exporter": "python",
   "pygments_lexer": "ipython3",
   "version": "3.9.6"
  },
  "orig_nbformat": 4
 },
 "nbformat": 4,
 "nbformat_minor": 2
}
